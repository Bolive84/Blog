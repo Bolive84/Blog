{
 "cells": [
  {
   "cell_type": "markdown",
   "metadata": {},
   "source": [
    "Title: My Second Blog\n",
    "Date: 2019-09-12\n",
    "Slug: blog2"
   ]
  },
  {
   "cell_type": "markdown",
   "metadata": {},
   "source": [
    "This is my second blog post"
   ]
  },
  {
   "cell_type": "code",
   "execution_count": 6,
   "metadata": {},
   "outputs": [],
   "source": [
    "import pandas as pd\n",
    "import chart\n",
    "from IPython.core.display import HTML"
   ]
  },
  {
   "cell_type": "code",
   "execution_count": 7,
   "metadata": {},
   "outputs": [],
   "source": [
    "df = pd.DataFrame([\n",
    "    ['Ryan', 'https://duryan00.github.io/blog/'],\n",
    "    ['Hock', 'https://teckhockng.github.io/blog/'],\n",
    "    ['Kavitha', 'https://kavitha-shashidharan.github.io/blog/'],\n",
    "    ['Anika', 'https://nawarani.github.io/blog/'],\n",
    "    ['Benoit', 'https://bolive84.github.io/Blog/'],\n",
    "], columns=['name', 'link'])"
   ]
  },
  {
   "cell_type": "code",
   "execution_count": 8,
   "metadata": {},
   "outputs": [
    {
     "data": {
      "text/html": [
       "<div>\n",
       "<style scoped>\n",
       "    .dataframe tbody tr th:only-of-type {\n",
       "        vertical-align: middle;\n",
       "    }\n",
       "\n",
       "    .dataframe tbody tr th {\n",
       "        vertical-align: top;\n",
       "    }\n",
       "\n",
       "    .dataframe thead th {\n",
       "        text-align: right;\n",
       "    }\n",
       "</style>\n",
       "<table border=\"1\" class=\"dataframe\">\n",
       "  <thead>\n",
       "    <tr style=\"text-align: right;\">\n",
       "      <th></th>\n",
       "      <th>name</th>\n",
       "      <th>link</th>\n",
       "    </tr>\n",
       "  </thead>\n",
       "  <tbody>\n",
       "    <tr>\n",
       "      <th>0</th>\n",
       "      <td>Ryan</td>\n",
       "      <td>https://duryan00.github.io/blog/</td>\n",
       "    </tr>\n",
       "    <tr>\n",
       "      <th>1</th>\n",
       "      <td>Hock</td>\n",
       "      <td>https://teckhockng.github.io/blog/</td>\n",
       "    </tr>\n",
       "    <tr>\n",
       "      <th>2</th>\n",
       "      <td>Kavitha</td>\n",
       "      <td>https://kavitha-shashidharan.github.io/blog/</td>\n",
       "    </tr>\n",
       "    <tr>\n",
       "      <th>3</th>\n",
       "      <td>Anika</td>\n",
       "      <td>https://nawarani.github.io/blog/</td>\n",
       "    </tr>\n",
       "    <tr>\n",
       "      <th>4</th>\n",
       "      <td>Benoit</td>\n",
       "      <td>https://bolive84.github.io/Blog/</td>\n",
       "    </tr>\n",
       "  </tbody>\n",
       "</table>\n",
       "</div>"
      ],
      "text/plain": [
       "      name                                          link\n",
       "0     Ryan              https://duryan00.github.io/blog/\n",
       "1     Hock            https://teckhockng.github.io/blog/\n",
       "2  Kavitha  https://kavitha-shashidharan.github.io/blog/\n",
       "3    Anika              https://nawarani.github.io/blog/\n",
       "4   Benoit              https://bolive84.github.io/Blog/"
      ]
     },
     "execution_count": 8,
     "metadata": {},
     "output_type": "execute_result"
    }
   ],
   "source": [
    "df"
   ]
  },
  {
   "cell_type": "code",
   "execution_count": 9,
   "metadata": {},
   "outputs": [
    {
     "name": "stdout",
     "output_type": "stream",
     "text": [
      "    x    \n",
      "    x    \n",
      "    x    \n",
      "  x x    \n",
      "  x x    \n",
      "  x x    \n",
      "  x x x  \n",
      "  x x x  \n",
      "x x x x x\n",
      "x x x x x\n",
      "\n"
     ]
    }
   ],
   "source": [
    "import numpy as np\n",
    "chart.histogram(np.random.normal(100, 20, size=100), mark='x')"
   ]
  },
  {
   "cell_type": "markdown",
   "metadata": {},
   "source": [
    "![](https://cdn1.vectorstock.com/i/1000x1000/54/50/smiling-cartoon-yeti-vector-4995450.jpg)"
   ]
  },
  {
   "cell_type": "markdown",
   "metadata": {},
   "source": [
    "![](https://d.newsweek.com/en/full/1409646/whats-difference-between-yeti-bigfoot-sasquatch.png?w=1600&h=1200&q=88&f=fc57fa80f9c841873705fe0e4956e5cf)"
   ]
  },
  {
   "cell_type": "code",
   "execution_count": null,
   "metadata": {},
   "outputs": [],
   "source": []
  }
 ],
 "metadata": {
  "kernelspec": {
   "display_name": "Python 3",
   "language": "python",
   "name": "python3"
  },
  "language_info": {
   "codemirror_mode": {
    "name": "ipython",
    "version": 3
   },
   "file_extension": ".py",
   "mimetype": "text/x-python",
   "name": "python",
   "nbconvert_exporter": "python",
   "pygments_lexer": "ipython3",
   "version": "3.7.3"
  }
 },
 "nbformat": 4,
 "nbformat_minor": 2
}
