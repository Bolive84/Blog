{
 "cells": [
  {
   "cell_type": "markdown",
   "metadata": {},
   "source": [
    "\n",
    "I\n",
    "\n",
    "\n",
    "In the next few sections, we show some quick methods to generate synthetic dataset for practicing statistical modeling and machine learning.\n",
    "The demo notebook can be found here in my Github repository."
   ]
  },
  {
   "cell_type": "code",
   "execution_count": 1,
   "metadata": {},
   "outputs": [],
   "source": [
    "from sklearn.datasets import make_regression\n",
    "import numpy as np\n",
    "import matplotlib.pyplot as plt\n",
    "import pandas as pd\n",
    "import seaborn as sns"
   ]
  },
  {
   "cell_type": "code",
   "execution_count": 59,
   "metadata": {},
   "outputs": [
    {
     "data": {
      "text/html": [
       "<div>\n",
       "<style scoped>\n",
       "    .dataframe tbody tr th:only-of-type {\n",
       "        vertical-align: middle;\n",
       "    }\n",
       "\n",
       "    .dataframe tbody tr th {\n",
       "        vertical-align: top;\n",
       "    }\n",
       "\n",
       "    .dataframe thead th {\n",
       "        text-align: right;\n",
       "    }\n",
       "</style>\n",
       "<table border=\"1\" class=\"dataframe\">\n",
       "  <thead>\n",
       "    <tr style=\"text-align: right;\">\n",
       "      <th></th>\n",
       "      <th>feature_0</th>\n",
       "      <th>feature_1</th>\n",
       "      <th>feature_2</th>\n",
       "      <th>feature_3</th>\n",
       "      <th>feature_4</th>\n",
       "      <th>feature_5</th>\n",
       "      <th>feature_6</th>\n",
       "      <th>feature_7</th>\n",
       "      <th>feature_8</th>\n",
       "      <th>feature_9</th>\n",
       "    </tr>\n",
       "  </thead>\n",
       "  <tbody>\n",
       "    <tr>\n",
       "      <th>0</th>\n",
       "      <td>0.699833</td>\n",
       "      <td>-1.751113</td>\n",
       "      <td>0.680654</td>\n",
       "      <td>-1.443121</td>\n",
       "      <td>1.576356</td>\n",
       "      <td>-0.442637</td>\n",
       "      <td>-0.125631</td>\n",
       "      <td>0.212831</td>\n",
       "      <td>-1.036174</td>\n",
       "      <td>0.534143</td>\n",
       "    </tr>\n",
       "    <tr>\n",
       "      <th>1</th>\n",
       "      <td>-0.786868</td>\n",
       "      <td>0.151321</td>\n",
       "      <td>1.089231</td>\n",
       "      <td>1.077663</td>\n",
       "      <td>1.156548</td>\n",
       "      <td>1.094927</td>\n",
       "      <td>1.868975</td>\n",
       "      <td>-0.002238</td>\n",
       "      <td>-0.800603</td>\n",
       "      <td>0.891848</td>\n",
       "    </tr>\n",
       "    <tr>\n",
       "      <th>2</th>\n",
       "      <td>-0.407013</td>\n",
       "      <td>-0.212508</td>\n",
       "      <td>0.316530</td>\n",
       "      <td>-0.930115</td>\n",
       "      <td>-0.860615</td>\n",
       "      <td>-0.058339</td>\n",
       "      <td>-0.485400</td>\n",
       "      <td>-0.333856</td>\n",
       "      <td>-0.683713</td>\n",
       "      <td>-1.168142</td>\n",
       "    </tr>\n",
       "    <tr>\n",
       "      <th>3</th>\n",
       "      <td>0.152374</td>\n",
       "      <td>-1.814727</td>\n",
       "      <td>-2.318428</td>\n",
       "      <td>0.075977</td>\n",
       "      <td>1.575783</td>\n",
       "      <td>1.189011</td>\n",
       "      <td>1.537380</td>\n",
       "      <td>0.496505</td>\n",
       "      <td>-2.617290</td>\n",
       "      <td>0.181741</td>\n",
       "    </tr>\n",
       "    <tr>\n",
       "      <th>4</th>\n",
       "      <td>-0.562504</td>\n",
       "      <td>1.692499</td>\n",
       "      <td>-2.593950</td>\n",
       "      <td>-1.901410</td>\n",
       "      <td>-0.811478</td>\n",
       "      <td>-0.105703</td>\n",
       "      <td>0.667132</td>\n",
       "      <td>0.734873</td>\n",
       "      <td>0.638998</td>\n",
       "      <td>0.503779</td>\n",
       "    </tr>\n",
       "  </tbody>\n",
       "</table>\n",
       "</div>"
      ],
      "text/plain": [
       "   feature_0  feature_1  feature_2  feature_3  feature_4  feature_5  \\\n",
       "0   0.699833  -1.751113   0.680654  -1.443121   1.576356  -0.442637   \n",
       "1  -0.786868   0.151321   1.089231   1.077663   1.156548   1.094927   \n",
       "2  -0.407013  -0.212508   0.316530  -0.930115  -0.860615  -0.058339   \n",
       "3   0.152374  -1.814727  -2.318428   0.075977   1.575783   1.189011   \n",
       "4  -0.562504   1.692499  -2.593950  -1.901410  -0.811478  -0.105703   \n",
       "\n",
       "   feature_6  feature_7  feature_8  feature_9  \n",
       "0  -0.125631   0.212831  -1.036174   0.534143  \n",
       "1   1.868975  -0.002238  -0.800603   0.891848  \n",
       "2  -0.485400  -0.333856  -0.683713  -1.168142  \n",
       "3   1.537380   0.496505  -2.617290   0.181741  \n",
       "4   0.667132   0.734873   0.638998   0.503779  "
      ]
     },
     "execution_count": 59,
     "metadata": {},
     "output_type": "execute_result"
    }
   ],
   "source": [
    "# def test(samples, feats, info, targets):\n",
    "#     X,y = make_regression(\n",
    "#     n_samples=samples,\n",
    "#     n_features=feats,\n",
    "#     n_informative=info,\n",
    "#     n_targets=targets,\n",
    "#     bias=1.0,\n",
    "#     effective_rank=None,\n",
    "#     tail_strength=0.5,\n",
    "#     noise=0,\n",
    "#     shuffle=True,\n",
    "#     coef=False,\n",
    "#     random_state=None)\n",
    "#     return\n",
    "\n",
    "X,y, coef = make_regression(\n",
    "        n_samples=1000,\n",
    "        n_features=10,\n",
    "        n_informative=5,\n",
    "        n_targets=1,\n",
    "        bias=0, \n",
    "        effective_rank=None, \n",
    "        tail_strength=0.5, \n",
    "        noise=500, \n",
    "        shuffle=True,\n",
    "        coef=True, \n",
    "        random_state=1\n",
    ")\n",
    "\n",
    "df_reg = pd.DataFrame(X, columns =['feature_0','feature_1','feature_2','feature_3','feature_4','feature_5','feature_6','feature_7','feature_8','feature_9'])\n",
    "df_reg.head()\n"
   ]
  },
  {
   "cell_type": "code",
   "execution_count": 48,
   "metadata": {},
   "outputs": [
    {
     "data": {
      "text/html": [
       "<div>\n",
       "<style scoped>\n",
       "    .dataframe tbody tr th:only-of-type {\n",
       "        vertical-align: middle;\n",
       "    }\n",
       "\n",
       "    .dataframe tbody tr th {\n",
       "        vertical-align: top;\n",
       "    }\n",
       "\n",
       "    .dataframe thead th {\n",
       "        text-align: right;\n",
       "    }\n",
       "</style>\n",
       "<table border=\"1\" class=\"dataframe\">\n",
       "  <thead>\n",
       "    <tr style=\"text-align: right;\">\n",
       "      <th></th>\n",
       "      <th>target</th>\n",
       "    </tr>\n",
       "  </thead>\n",
       "  <tbody>\n",
       "    <tr>\n",
       "      <th>0</th>\n",
       "      <td>421.575990</td>\n",
       "    </tr>\n",
       "    <tr>\n",
       "      <th>1</th>\n",
       "      <td>385.489492</td>\n",
       "    </tr>\n",
       "    <tr>\n",
       "      <th>2</th>\n",
       "      <td>-501.703010</td>\n",
       "    </tr>\n",
       "    <tr>\n",
       "      <th>3</th>\n",
       "      <td>-340.658280</td>\n",
       "    </tr>\n",
       "    <tr>\n",
       "      <th>4</th>\n",
       "      <td>-91.834704</td>\n",
       "    </tr>\n",
       "  </tbody>\n",
       "</table>\n",
       "</div>"
      ],
      "text/plain": [
       "       target\n",
       "0  421.575990\n",
       "1  385.489492\n",
       "2 -501.703010\n",
       "3 -340.658280\n",
       "4  -91.834704"
      ]
     },
     "execution_count": 48,
     "metadata": {},
     "output_type": "execute_result"
    }
   ],
   "source": [
    "Target = pd.DataFrame(y, columns =['target'])\n",
    "Target.head()"
   ]
  },
  {
   "cell_type": "code",
   "execution_count": null,
   "metadata": {},
   "outputs": [],
   "source": []
  },
  {
   "cell_type": "code",
   "execution_count": 49,
   "metadata": {},
   "outputs": [
    {
     "data": {
      "text/html": [
       "<div>\n",
       "<style scoped>\n",
       "    .dataframe tbody tr th:only-of-type {\n",
       "        vertical-align: middle;\n",
       "    }\n",
       "\n",
       "    .dataframe tbody tr th {\n",
       "        vertical-align: top;\n",
       "    }\n",
       "\n",
       "    .dataframe thead th {\n",
       "        text-align: right;\n",
       "    }\n",
       "</style>\n",
       "<table border=\"1\" class=\"dataframe\">\n",
       "  <thead>\n",
       "    <tr style=\"text-align: right;\">\n",
       "      <th></th>\n",
       "      <th>feature_0</th>\n",
       "      <th>feature_1</th>\n",
       "      <th>feature_2</th>\n",
       "      <th>feature_3</th>\n",
       "      <th>feature_4</th>\n",
       "      <th>feature_5</th>\n",
       "      <th>feature_6</th>\n",
       "      <th>feature_7</th>\n",
       "      <th>feature_8</th>\n",
       "      <th>feature_9</th>\n",
       "    </tr>\n",
       "  </thead>\n",
       "  <tbody>\n",
       "    <tr>\n",
       "      <th>true_coefs</th>\n",
       "      <td>0.0</td>\n",
       "      <td>26.746067</td>\n",
       "      <td>3.285346</td>\n",
       "      <td>0.0</td>\n",
       "      <td>0.0</td>\n",
       "      <td>86.50811</td>\n",
       "      <td>0.0</td>\n",
       "      <td>0.0</td>\n",
       "      <td>93.322255</td>\n",
       "      <td>12.444828</td>\n",
       "    </tr>\n",
       "  </tbody>\n",
       "</table>\n",
       "</div>"
      ],
      "text/plain": [
       "            feature_0  feature_1  feature_2  feature_3  feature_4  feature_5  \\\n",
       "true_coefs        0.0  26.746067   3.285346        0.0        0.0   86.50811   \n",
       "\n",
       "            feature_6  feature_7  feature_8  feature_9  \n",
       "true_coefs        0.0        0.0  93.322255  12.444828  "
      ]
     },
     "execution_count": 49,
     "metadata": {},
     "output_type": "execute_result"
    }
   ],
   "source": [
    "true_coefs = pd.DataFrame(coef, columns =['true_coefs'], index=['feature_0','feature_1','feature_2','feature_3','feature_4','feature_5','feature_6','feature_7','feature_8','feature_9'])\n",
    "true_coefs.T"
   ]
  },
  {
   "cell_type": "code",
   "execution_count": 51,
   "metadata": {},
   "outputs": [
    {
     "data": {
      "text/html": [
       "<div>\n",
       "<style scoped>\n",
       "    .dataframe tbody tr th:only-of-type {\n",
       "        vertical-align: middle;\n",
       "    }\n",
       "\n",
       "    .dataframe tbody tr th {\n",
       "        vertical-align: top;\n",
       "    }\n",
       "\n",
       "    .dataframe thead th {\n",
       "        text-align: right;\n",
       "    }\n",
       "</style>\n",
       "<table border=\"1\" class=\"dataframe\">\n",
       "  <thead>\n",
       "    <tr style=\"text-align: right;\">\n",
       "      <th></th>\n",
       "      <th>target</th>\n",
       "    </tr>\n",
       "  </thead>\n",
       "  <tbody>\n",
       "    <tr>\n",
       "      <th>count</th>\n",
       "      <td>1000.000000</td>\n",
       "    </tr>\n",
       "    <tr>\n",
       "      <th>mean</th>\n",
       "      <td>13.825921</td>\n",
       "    </tr>\n",
       "    <tr>\n",
       "      <th>std</th>\n",
       "      <td>505.292071</td>\n",
       "    </tr>\n",
       "    <tr>\n",
       "      <th>min</th>\n",
       "      <td>-1444.241072</td>\n",
       "    </tr>\n",
       "    <tr>\n",
       "      <th>25%</th>\n",
       "      <td>-330.802575</td>\n",
       "    </tr>\n",
       "    <tr>\n",
       "      <th>50%</th>\n",
       "      <td>23.055357</td>\n",
       "    </tr>\n",
       "    <tr>\n",
       "      <th>75%</th>\n",
       "      <td>341.718488</td>\n",
       "    </tr>\n",
       "    <tr>\n",
       "      <th>max</th>\n",
       "      <td>1821.503459</td>\n",
       "    </tr>\n",
       "  </tbody>\n",
       "</table>\n",
       "</div>"
      ],
      "text/plain": [
       "            target\n",
       "count  1000.000000\n",
       "mean     13.825921\n",
       "std     505.292071\n",
       "min   -1444.241072\n",
       "25%    -330.802575\n",
       "50%      23.055357\n",
       "75%     341.718488\n",
       "max    1821.503459"
      ]
     },
     "execution_count": 51,
     "metadata": {},
     "output_type": "execute_result"
    }
   ],
   "source": [
    "Target.describe()"
   ]
  },
  {
   "cell_type": "code",
   "execution_count": 52,
   "metadata": {},
   "outputs": [
    {
     "data": {
      "text/plain": [
       "<matplotlib.axes._subplots.AxesSubplot at 0x5301da0>"
      ]
     },
     "execution_count": 52,
     "metadata": {},
     "output_type": "execute_result"
    },
    {
     "data": {
      "image/png": "[encoded data removed]",
      "text/plain": [
       "<Figure size 432x288 with 1 Axes>"
      ]
     },
     "metadata": {
      "needs_background": "light"
     },
     "output_type": "display_data"
    }
   ],
   "source": [
    "sns.distplot(Target)"
   ]
  },
  {
   "cell_type": "code",
   "execution_count": 53,
   "metadata": {},
   "outputs": [
    {
     "data": {
      "text/html": [
       "<div>\n",
       "<style scoped>\n",
       "    .dataframe tbody tr th:only-of-type {\n",
       "        vertical-align: middle;\n",
       "    }\n",
       "\n",
       "    .dataframe tbody tr th {\n",
       "        vertical-align: top;\n",
       "    }\n",
       "\n",
       "    .dataframe thead th {\n",
       "        text-align: right;\n",
       "    }\n",
       "</style>\n",
       "<table border=\"1\" class=\"dataframe\">\n",
       "  <thead>\n",
       "    <tr style=\"text-align: right;\">\n",
       "      <th></th>\n",
       "      <th>store_1</th>\n",
       "      <th>store_2</th>\n",
       "      <th>store_3</th>\n",
       "      <th>store_4</th>\n",
       "      <th>store_5</th>\n",
       "      <th>store_6</th>\n",
       "      <th>store_7</th>\n",
       "      <th>store_8</th>\n",
       "      <th>store_9</th>\n",
       "      <th>store_10</th>\n",
       "    </tr>\n",
       "  </thead>\n",
       "  <tbody>\n",
       "    <tr>\n",
       "      <th>true_coef</th>\n",
       "      <td>0.000000</td>\n",
       "      <td>26.746067</td>\n",
       "      <td>3.285346</td>\n",
       "      <td>0.000000</td>\n",
       "      <td>0.000000</td>\n",
       "      <td>86.508110</td>\n",
       "      <td>0.000000</td>\n",
       "      <td>0.000000</td>\n",
       "      <td>93.322255</td>\n",
       "      <td>12.444828</td>\n",
       "    </tr>\n",
       "    <tr>\n",
       "      <th>predicted_coef_linear_regression</th>\n",
       "      <td>1.866844</td>\n",
       "      <td>25.702129</td>\n",
       "      <td>-3.679188</td>\n",
       "      <td>-6.112337</td>\n",
       "      <td>34.886585</td>\n",
       "      <td>92.493703</td>\n",
       "      <td>20.896593</td>\n",
       "      <td>18.801634</td>\n",
       "      <td>43.946286</td>\n",
       "      <td>0.984736</td>\n",
       "    </tr>\n",
       "    <tr>\n",
       "      <th>predicted_coef_ridge_regression</th>\n",
       "      <td>2.349681</td>\n",
       "      <td>13.793480</td>\n",
       "      <td>-2.971854</td>\n",
       "      <td>-3.211851</td>\n",
       "      <td>16.354138</td>\n",
       "      <td>43.565217</td>\n",
       "      <td>9.351334</td>\n",
       "      <td>9.191844</td>\n",
       "      <td>20.898472</td>\n",
       "      <td>1.635359</td>\n",
       "    </tr>\n",
       "    <tr>\n",
       "      <th>predicted_coef_lasso_regression</th>\n",
       "      <td>0.000000</td>\n",
       "      <td>10.409554</td>\n",
       "      <td>-0.000000</td>\n",
       "      <td>-0.000000</td>\n",
       "      <td>14.670828</td>\n",
       "      <td>73.143455</td>\n",
       "      <td>0.377444</td>\n",
       "      <td>0.000000</td>\n",
       "      <td>24.208270</td>\n",
       "      <td>0.000000</td>\n",
       "    </tr>\n",
       "  </tbody>\n",
       "</table>\n",
       "</div>"
      ],
      "text/plain": [
       "                                   store_1    store_2   store_3   store_4  \\\n",
       "true_coef                         0.000000  26.746067  3.285346  0.000000   \n",
       "predicted_coef_linear_regression  1.866844  25.702129 -3.679188 -6.112337   \n",
       "predicted_coef_ridge_regression   2.349681  13.793480 -2.971854 -3.211851   \n",
       "predicted_coef_lasso_regression   0.000000  10.409554 -0.000000 -0.000000   \n",
       "\n",
       "                                    store_5    store_6    store_7    store_8  \\\n",
       "true_coef                          0.000000  86.508110   0.000000   0.000000   \n",
       "predicted_coef_linear_regression  34.886585  92.493703  20.896593  18.801634   \n",
       "predicted_coef_ridge_regression   16.354138  43.565217   9.351334   9.191844   \n",
       "predicted_coef_lasso_regression   14.670828  73.143455   0.377444   0.000000   \n",
       "\n",
       "                                    store_9   store_10  \n",
       "true_coef                         93.322255  12.444828  \n",
       "predicted_coef_linear_regression  43.946286   0.984736  \n",
       "predicted_coef_ridge_regression   20.898472   1.635359  \n",
       "predicted_coef_lasso_regression   24.208270   0.000000  "
      ]
     },
     "execution_count": 53,
     "metadata": {},
     "output_type": "execute_result"
    }
   ],
   "source": [
    "from sklearn.model_selection import train_test_split\n",
    "from sklearn.linear_model import LinearRegression, Ridge, Lasso\n",
    "\n",
    "X_train, X_test, y_train, y_test = train_test_split(X, y, test_size=0.33, random_state=42)\n",
    "\n",
    "linreg = LinearRegression()\n",
    "ridge = Ridge(alpha=756)\n",
    "lasso = Lasso(alpha=20)\n",
    "\n",
    "models = [linreg, ridge, lasso]\n",
    "model_names = ['LinearRegression', 'Ridge', 'Lasso']\n",
    "\n",
    "x = 0\n",
    "for model in models:\n",
    "    model.fit(X_train, y_train),\n",
    "    model.predict(X_test),\n",
    "    model.predict(X_train),\n",
    "#     print(model_names[x], 'score for X_train: ', model.score(X_train, y_train))\n",
    "#     print(model_names[x], 'score for X_test: ', model.score(X_test, y_test))\n",
    "#     print()\n",
    "    x +=1\n",
    "    \n",
    "pd.DataFrame(data=[coef, linreg.coef_, ridge.coef_, lasso.coef_], columns=['store_1', 'store_2', 'store_3', 'store_4', 'store_5', 'store_6', 'store_7', 'store_8', 'store_9', 'store_10'], index=['true_coef','predicted_coef_linear_regression','predicted_coef_ridge_regression', 'predicted_coef_lasso_regression'])   \n",
    "#     pd.DataFrame(model.coef_, columns=['predicted_coef for' , model_names[x]], index=['store_1', 'store_2', 'store_3', 'store_4', 'store_5', 'store_6', 'store_7', 'store_8', 'store_9', 'store_10'])"
   ]
  },
  {
   "cell_type": "code",
   "execution_count": 54,
   "metadata": {},
   "outputs": [],
   "source": [
    "x = 0\n",
    "for model in models:\n",
    "    model.score(X_test, y_test)\n",
    "    x +=1\n",
    "    "
   ]
  },
  {
   "cell_type": "code",
   "execution_count": 55,
   "metadata": {},
   "outputs": [],
   "source": [
    "from sklearn.linear_model import LassoCV\n",
    "from sklearn.linear_model import RidgeCV\n",
    "\n",
    "# Set up a list of Lasso alphas to check.\n",
    "best_alpha_ridge = np.logspace(0, 5, 100)\n",
    "best_alpha_lasso = np.linspace(0.1, 100, 100)\n",
    "# Generates 100 values equally between 0.15 and 1.\n",
    "\n",
    "# Cross-validate over our list of Ridge and Lasso alphas.\n",
    "ridge_model = RidgeCV(alphas=best_alpha_ridge, cv=5)\n",
    "lasso_model = LassoCV(alphas=best_alpha_lasso, cv=5)\n",
    "\n",
    "\n",
    "# Fit model using best ridge alpha!\n",
    "ridge_model = ridge_model.fit(X_train, y_train)\n",
    "lasso_model = lasso_model.fit(X_train, y_train)"
   ]
  },
  {
   "cell_type": "code",
   "execution_count": 56,
   "metadata": {},
   "outputs": [
    {
     "name": "stdout",
     "output_type": "stream",
     "text": [
      "756.463327554629\n",
      "20.28181818181818\n"
     ]
    }
   ],
   "source": [
    "ridge_optimal_alpha = ridge_model.alpha_\n",
    "lasso_optimal_alpha = lasso_model.alpha_\n",
    "\n",
    "print(ridge_optimal_alpha)\n",
    "print(lasso_optimal_alpha)"
   ]
  },
  {
   "cell_type": "code",
   "execution_count": 30,
   "metadata": {},
   "outputs": [
    {
     "data": {
      "text/plain": [
       "array([ 2.34931522, 13.78950123, -2.97123423, -3.21092829, 16.3488609 ,\n",
       "       43.55112844,  9.34817935,  9.18895896, 20.8917629 ,  1.63515593])"
      ]
     },
     "execution_count": 30,
     "metadata": {},
     "output_type": "execute_result"
    }
   ],
   "source": [
    "ridge_model.coef_"
   ]
  },
  {
   "cell_type": "code",
   "execution_count": 58,
   "metadata": {},
   "outputs": [
    {
     "data": {
      "text/plain": [
       "array([ 0.        , 10.20684663, -0.        , -0.        , 14.38380513,\n",
       "       72.8552813 ,  0.07864143,  0.        , 23.9382465 ,  0.        ])"
      ]
     },
     "execution_count": 58,
     "metadata": {},
     "output_type": "execute_result"
    }
   ],
   "source": [
    "lasso_model.coef_"
   ]
  },
  {
   "cell_type": "code",
   "execution_count": 67,
   "metadata": {},
   "outputs": [
    {
     "name": "stdout",
     "output_type": "stream",
     "text": [
      "0.05063735799191548\n",
      "0.02555887792059819\n"
     ]
    }
   ],
   "source": [
    "print(linreg.score(X_train, y_train))\n",
    "print(linreg.score(X_test, y_test))"
   ]
  },
  {
   "cell_type": "code",
   "execution_count": 70,
   "metadata": {},
   "outputs": [
    {
     "name": "stdout",
     "output_type": "stream",
     "text": [
      "0.03678281454015231\n",
      "0.02273618572667846\n"
     ]
    }
   ],
   "source": [
    "print(ridge_model.score(X_train, y_train))\n",
    "print(ridge_model.score(X_test, y_test))"
   ]
  },
  {
   "cell_type": "code",
   "execution_count": 71,
   "metadata": {},
   "outputs": [
    {
     "name": "stdout",
     "output_type": "stream",
     "text": [
      "0.041756115186114995\n",
      "0.027538091780538676\n"
     ]
    }
   ],
   "source": [
    "print(lasso_model.score(X_train, y_train))\n",
    "print(lasso_model.score(X_test, y_test))"
   ]
  },
  {
   "cell_type": "code",
   "execution_count": null,
   "metadata": {},
   "outputs": [],
   "source": []
  },
  {
   "cell_type": "code",
   "execution_count": null,
   "metadata": {},
   "outputs": [],
   "source": []
  },
  {
   "cell_type": "code",
   "execution_count": null,
   "metadata": {},
   "outputs": [],
   "source": []
  },
  {
   "cell_type": "code",
   "execution_count": null,
   "metadata": {},
   "outputs": [],
   "source": []
  }
 ],
 "metadata": {
  "kernelspec": {
   "display_name": "Python 3",
   "language": "python",
   "name": "python3"
  },
  "language_info": {
   "codemirror_mode": {
    "name": "ipython",
    "version": 3
   },
   "file_extension": ".py",
   "mimetype": "text/x-python",
   "name": "python",
   "nbconvert_exporter": "python",
   "pygments_lexer": "ipython3",
   "version": "3.7.3"
  }
 },
 "nbformat": 4,
 "nbformat_minor": 2
}
