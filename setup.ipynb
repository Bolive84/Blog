{
 "cells": [
  {
   "cell_type": "code",
   "execution_count": 4,
   "metadata": {},
   "outputs": [
    {
     "name": "stdout",
     "output_type": "stream",
     "text": [
      "Collecting pelican\n",
      "  Downloading https://files.pythonhosted.org/packages/fc/56/3f7a45c14e573e5cd4df20d4356a87d2fd3664f9da6e73800ba9faa5124a/pelican-4.1.1-py2.py3-none-any.whl (257kB)\n",
      "Collecting Markdown\n",
      "  Downloading https://files.pythonhosted.org/packages/c0/4e/fd492e91abdc2d2fcb70ef453064d980688762079397f779758e055f6575/Markdown-3.1.1-py2.py3-none-any.whl (87kB)\n",
      "Collecting fire\n",
      "  Downloading https://files.pythonhosted.org/packages/d9/69/faeaae8687f4de0f5973694d02e9d6c3eb827636a009157352d98de1129e/fire-0.2.1.tar.gz (76kB)\n",
      "Collecting ghp-import\n",
      "  Downloading https://files.pythonhosted.org/packages/bd/95/27cb11b5d09643c2756f04a1412b0d62aadeb0b909564f85122270c4097c/ghp-import-0.5.5.tar.gz\n",
      "Collecting feedgenerator>=1.9 (from pelican)\n",
      "  Downloading https://files.pythonhosted.org/packages/eb/02/7069b3dbc6ea92f034e07f9f9adc2193cd02d1aedf2cf9ec71150102a964/feedgenerator-1.9.tar.gz (4.1MB)\n",
      "Collecting unidecode (from pelican)\n",
      "  Downloading https://files.pythonhosted.org/packages/d0/42/d9edfed04228bacea2d824904cae367ee9efd05e6cce7ceaaedd0b0ad964/Unidecode-1.1.1-py2.py3-none-any.whl (238kB)\n",
      "Requirement already satisfied: pygments in c:\\users\\administrator\\anaconda3\\lib\\site-packages (from pelican) (2.4.2)\n",
      "Requirement already satisfied: jinja2>=2.7 in c:\\users\\administrator\\anaconda3\\lib\\site-packages (from pelican) (2.10.1)\n",
      "Collecting blinker (from pelican)\n",
      "  Downloading https://files.pythonhosted.org/packages/1b/51/e2a9f3b757eb802f61dc1f2b09c8c99f6eb01cf06416c0671253536517b6/blinker-1.4.tar.gz (111kB)\n",
      "Requirement already satisfied: six>=1.4 in c:\\users\\administrator\\anaconda3\\lib\\site-packages (from pelican) (1.12.0)\n",
      "Requirement already satisfied: pytz>=0a in c:\\users\\administrator\\anaconda3\\lib\\site-packages (from pelican) (2019.1)\n",
      "Requirement already satisfied: python-dateutil in c:\\users\\administrator\\anaconda3\\lib\\site-packages (from pelican) (2.8.0)\n",
      "Requirement already satisfied: docutils in c:\\users\\administrator\\anaconda3\\lib\\site-packages (from pelican) (0.14)\n",
      "Requirement already satisfied: setuptools>=36 in c:\\users\\administrator\\anaconda3\\lib\\site-packages (from Markdown) (41.0.1)\n",
      "Collecting termcolor (from fire)\n",
      "  Downloading https://files.pythonhosted.org/packages/8a/48/a76be51647d0eb9f10e2a4511bf3ffb8cc1e6b14e9e4fab46173aa79f981/termcolor-1.1.0.tar.gz\n",
      "Requirement already satisfied: MarkupSafe>=0.23 in c:\\users\\administrator\\anaconda3\\lib\\site-packages (from jinja2>=2.7->pelican) (1.1.1)\n",
      "Building wheels for collected packages: fire, ghp-import, feedgenerator, blinker, termcolor\n",
      "  Building wheel for fire (setup.py): started\n",
      "  Building wheel for fire (setup.py): finished with status 'done'\n",
      "  Created wheel for fire: filename=fire-0.2.1-py2.py3-none-any.whl size=103533 sha256=15cb1115a29996f8a9834295a7de66e0b540db7046c731ed9c526fcc982a61c3\n",
      "  Stored in directory: C:\\Users\\Administrator\\AppData\\Local\\pip\\Cache\\wheels\\31\\9c\\c0\\07b6dc7faf1844bb4688f46b569efe6cafaa2179c95db821da\n",
      "  Building wheel for ghp-import (setup.py): started\n",
      "  Building wheel for ghp-import (setup.py): finished with status 'done'\n",
      "  Created wheel for ghp-import: filename=ghp_import-0.5.5-cp37-none-any.whl size=6113 sha256=b3688640889cf71bc5412be9fba4bf64b3f71d07f6ff7b875ba4a9acce8e4703\n",
      "  Stored in directory: C:\\Users\\Administrator\\AppData\\Local\\pip\\Cache\\wheels\\9b\\f9\\87\\fe8781d384fe96543af3ec5c7e4f95d8c82f355a46c27a20a5\n",
      "  Building wheel for feedgenerator (setup.py): started\n",
      "  Building wheel for feedgenerator (setup.py): finished with status 'done'\n",
      "  Created wheel for feedgenerator: filename=feedgenerator-1.9-cp37-none-any.whl size=21806 sha256=f3c5c091e3d7607f7c6edfeeada0f027bb8ff733d261d1a56bbc144dc1290d2a\n",
      "  Stored in directory: C:\\Users\\Administrator\\AppData\\Local\\pip\\Cache\\wheels\\ac\\c9\\63\\61e224fe1b2442b36e18f2e1c13b97fa4ce3ba7211d92f9401\n",
      "  Building wheel for blinker (setup.py): started\n",
      "  Building wheel for blinker (setup.py): finished with status 'done'\n",
      "  Created wheel for blinker: filename=blinker-1.4-cp37-none-any.whl size=13454 sha256=b563f607a8767c815021c25e6ed235c3440aa95de171b657c512323a01e599f8\n",
      "  Stored in directory: C:\\Users\\Administrator\\AppData\\Local\\pip\\Cache\\wheels\\92\\a0\\00\\8690a57883956a301d91cf4ec999cc0b258b01e3f548f86e89\n",
      "  Building wheel for termcolor (setup.py): started\n",
      "  Building wheel for termcolor (setup.py): finished with status 'done'\n",
      "  Created wheel for termcolor: filename=termcolor-1.1.0-cp37-none-any.whl size=4835 sha256=372046b3d4e3ee8535860601689e6336f94d50423f1451829e10ac04857e5b3b\n",
      "  Stored in directory: C:\\Users\\Administrator\\AppData\\Local\\pip\\Cache\\wheels\\7c\\06\\54\\bc84598ba1daf8f970247f550b175aaaee85f68b4b0c5ab2c6\n",
      "Successfully built fire ghp-import feedgenerator blinker termcolor\n",
      "Installing collected packages: feedgenerator, unidecode, blinker, pelican, Markdown, termcolor, fire, ghp-import\n",
      "Successfully installed Markdown-3.1.1 blinker-1.4 feedgenerator-1.9 fire-0.2.1 ghp-import-0.5.5 pelican-4.1.1 termcolor-1.1.0 unidecode-1.1.1\n"
     ]
    }
   ],
   "source": [
    "!pip install pelican Markdown fire ghp-import"
   ]
  },
  {
   "cell_type": "code",
   "execution_count": 3,
   "metadata": {},
   "outputs": [
    {
     "name": "stdout",
     "output_type": "stream",
     "text": [
      "Requirement already up-to-date: chart in c:\\users\\administrator\\anaconda3\\lib\\site-packages (0.2.3)\n"
     ]
    }
   ],
   "source": [
    "!pip install -U chart"
   ]
  },
  {
   "cell_type": "code",
   "execution_count": 5,
   "metadata": {},
   "outputs": [
    {
     "name": "stdout",
     "output_type": "stream",
     "text": [
      "Done: Processed 1 article, 0 drafts, 0 pages, 0 hidden pages and 0 draft pages in 0.15 seconds.\n"
     ]
    }
   ],
   "source": [
    "!pelican -s pelicanconf.py -o output content"
   ]
  },
  {
   "cell_type": "code",
   "execution_count": 6,
   "metadata": {},
   "outputs": [
    {
     "name": "stderr",
     "output_type": "stream",
     "text": [
      "The system cannot find the path specified.\n"
     ]
    }
   ],
   "source": [
    "!cd output; python -m http.server"
   ]
  },
  {
   "cell_type": "code",
   "execution_count": 7,
   "metadata": {},
   "outputs": [
    {
     "data": {
      "text/plain": [
       "'C:\\\\Users\\\\Administrator\\\\Desktop\\\\DSI-GA\\\\Blog'"
      ]
     },
     "execution_count": 7,
     "metadata": {},
     "output_type": "execute_result"
    }
   ],
   "source": [
    "pwd"
   ]
  },
  {
   "cell_type": "code",
   "execution_count": 8,
   "metadata": {},
   "outputs": [
    {
     "name": "stdout",
     "output_type": "stream",
     "text": [
      " Volume in drive C has no label.\n",
      " Volume Serial Number is 32EB-0EFD\n",
      "\n",
      " Directory of C:\\Users\\Administrator\\Desktop\\DSI-GA\\Blog\n",
      "\n",
      "09/12/2019  10:38 AM    <DIR>          .\n",
      "09/12/2019  10:38 AM    <DIR>          ..\n",
      "09/12/2019  10:10 AM             1,307 .gitignore\n",
      "09/12/2019  10:24 AM    <DIR>          .ipynb_checkpoints\n",
      "09/12/2019  10:38 AM    <DIR>          __pycache__\n",
      "09/12/2019  10:35 AM    <DIR>          content\n",
      "09/12/2019  10:15 AM    <DIR>          jupyter\n",
      "09/12/2019  10:38 AM    <DIR>          output\n",
      "09/12/2019  10:30 AM               334 pelicanconf.py\n",
      "09/12/2019  10:10 AM                 6 README.md\n",
      "09/12/2019  10:24 AM                74 requirements.txt\n",
      "09/12/2019  10:38 AM             7,406 setup.ipynb\n",
      "09/12/2019  10:15 AM    <DIR>          theme\n",
      "               5 File(s)          9,127 bytes\n",
      "               8 Dir(s)  141,153,509,376 bytes free\n"
     ]
    }
   ],
   "source": [
    "ls"
   ]
  },
  {
   "cell_type": "code",
   "execution_count": 9,
   "metadata": {},
   "outputs": [
    {
     "name": "stderr",
     "output_type": "stream",
     "text": [
      "'ls' is not recognized as an internal or external command,\n",
      "operable program or batch file.\n"
     ]
    }
   ],
   "source": [
    "!ls"
   ]
  },
  {
   "cell_type": "code",
   "execution_count": null,
   "metadata": {},
   "outputs": [],
   "source": []
  }
 ],
 "metadata": {
  "kernelspec": {
   "display_name": "Python 3",
   "language": "python",
   "name": "python3"
  },
  "language_info": {
   "codemirror_mode": {
    "name": "ipython",
    "version": 3
   },
   "file_extension": ".py",
   "mimetype": "text/x-python",
   "name": "python",
   "nbconvert_exporter": "python",
   "pygments_lexer": "ipython3",
   "version": "3.7.3"
  }
 },
 "nbformat": 4,
 "nbformat_minor": 2
}
